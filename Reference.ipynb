{
  "cells": [
    {
      "cell_type": "markdown",
      "metadata": {
        "id": "6PY9m5zti2SO"
      },
      "source": [
        "# **Text Processing**"
      ]
    },
    {
      "cell_type": "markdown",
      "metadata": {
        "id": "PhJNomJJjMT6"
      },
      "source": [
        "## **Word Tokenization**\n",
        "\n",
        "Tokenization is the process of segmenting a string of characters into words."
      ]
    },
    {
      "cell_type": "code",
      "execution_count": null,
      "metadata": {
        "colab": {
          "base_uri": "https://localhost:8080/"
        },
        "id": "5M6uq9xfiQtJ",
        "outputId": "75e4db43-6b6b-45a0-eb96-3b91cff162d2"
      },
      "outputs": [
        {
          "data": {
            "text/plain": [
              "['Thomas',\n",
              " 'Jefferson',\n",
              " 'began',\n",
              " 'building',\n",
              " 'Monticello',\n",
              " 'at',\n",
              " 'the',\n",
              " 'age',\n",
              " 'of',\n",
              " '26.']"
            ]
          },
          "execution_count": 1,
          "metadata": {},
          "output_type": "execute_result"
        }
      ],
      "source": [
        "## Simle tokenization use str.split() method\n",
        "sentence = \"Thomas Jefferson began building Monticello at the age of 26.\"\n",
        "sentence.split()"
      ]
    },
    {
      "cell_type": "code",
      "execution_count": null,
      "metadata": {
        "colab": {
          "base_uri": "https://localhost:8080/"
        },
        "id": "ASWmT3e1kzxK",
        "outputId": "b5e11a06-3463-48ba-daab-00f6efc0d12f"
      },
      "outputs": [
        {
          "data": {
            "text/plain": [
              "['Thomas',\n",
              " 'Jefferson',\n",
              " 'began',\n",
              " 'building',\n",
              " 'Monticello',\n",
              " 'at',\n",
              " 'the',\n",
              " 'age',\n",
              " 'of',\n",
              " '26',\n",
              " '']"
            ]
          },
          "execution_count": 2,
          "metadata": {},
          "output_type": "execute_result"
        }
      ],
      "source": [
        "## Tokenization using regular expressions\n",
        "\n",
        "import re\n",
        "sentence = \"Thomas Jefferson began building Monticello at the age of 26.\"\n",
        "\n",
        "tokens = re.split(r\"[-\\s.,;!?]+\", sentence)\n",
        "\n",
        "tokens"
      ]
    },
    {
      "cell_type": "code",
      "execution_count": null,
      "metadata": {
        "colab": {
          "base_uri": "https://localhost:8080/"
        },
        "id": "jE56CZ3DlWr-",
        "outputId": "d15d5a2a-37cd-4230-a7e9-53e5f64023e0"
      },
      "outputs": [
        {
          "data": {
            "text/plain": [
              "['Thomas',\n",
              " 'Jefferson',\n",
              " 'began',\n",
              " 'building',\n",
              " 'Monticello',\n",
              " 'at',\n",
              " 'the',\n",
              " 'age',\n",
              " 'of',\n",
              " '26']"
            ]
          },
          "execution_count": 3,
          "metadata": {},
          "output_type": "execute_result"
        }
      ],
      "source": [
        "# To filter out the whitespace and punctuation characters\n",
        "\n",
        "tokens_cleaned = [x for x in tokens if x not in \"- \\t\\n.,;!?\"]\n",
        "\n",
        "tokens_cleaned"
      ]
    },
    {
      "cell_type": "markdown",
      "metadata": {
        "id": "RBXN8pDkoWkB"
      },
      "source": [
        " ## **Lemmatization** **and Stemming**\n",
        "\n",
        " Stemming is a technique to identify common words, or even various verb forms. \n",
        " "
      ]
    },
    {
      "cell_type": "code",
      "execution_count": null,
      "metadata": {
        "colab": {
          "base_uri": "https://localhost:8080/"
        },
        "id": "1ZvuwGDtpSct",
        "outputId": "fd9c8784-cf01-4d0c-83aa-ea2174f865b2"
      },
      "outputs": [
        {
          "name": "stderr",
          "output_type": "stream",
          "text": [
            "[nltk_data] Downloading package wordnet to /root/nltk_data...\n",
            "[nltk_data]   Package wordnet is already up-to-date!\n",
            "[nltk_data] Downloading package omw-1.4 to /root/nltk_data...\n"
          ]
        },
        {
          "data": {
            "text/plain": [
              "True"
            ]
          },
          "execution_count": 6,
          "metadata": {},
          "output_type": "execute_result"
        }
      ],
      "source": [
        "\n",
        "import nltk\n",
        "nltk.download('wordnet')\n",
        "nltk.download('omw-1.4')\n",
        "# Wordnet is a large lexical database of English Words. Nouns, verbs, adjectives,\n",
        "# and adverbs are grouped together into sets of cognitive synonyms called 'sysnets',\n",
        "# each expressing a distinct concept.\n",
        "# Sysnets are interlinked using conceptual-semantic and lexical relations such as homonymy and antonymy.\n"
      ]
    },
    {
      "cell_type": "code",
      "execution_count": null,
      "metadata": {
        "colab": {
          "base_uri": "https://localhost:8080/",
          "height": 38
        },
        "id": "Ik0BucJMl3jW",
        "outputId": "9fc4eea6-017e-4112-b2a6-f96989c54d02"
      },
      "outputs": [
        {
          "data": {
            "application/vnd.google.colaboratory.intrinsic+json": {
              "type": "string"
            },
            "text/plain": [
              "'good'"
            ]
          },
          "execution_count": 8,
          "metadata": {},
          "output_type": "execute_result"
        }
      ],
      "source": [
        "\n",
        "from nltk.stem import WordNetLemmatizer\n",
        "lemmatizer = WordNetLemmatizer()\n",
        "lemmatizer.lemmatize(\"better\", pos='a')\n"
      ]
    },
    {
      "cell_type": "code",
      "execution_count": null,
      "metadata": {
        "id": "NB7AOXYmpmrY"
      },
      "outputs": [],
      "source": [
        "## A simple stemming implementation which can handle trailing S's and ing.....\n",
        "\n",
        "def stem(phrase):\n",
        "\n",
        "  return ' '.join([re.findall(\"^(.*ss|.*?)(s|(ing))?$\", word)[0][0].strip(\"'\") for word in phrase.lower().split()])\n"
      ]
    },
    {
      "cell_type": "code",
      "execution_count": null,
      "metadata": {
        "colab": {
          "base_uri": "https://localhost:8080/"
        },
        "id": "IwkFR6anrw9w",
        "outputId": "642b2bb4-f1aa-4308-94b5-011c37035e1e"
      },
      "outputs": [
        {
          "data": {
            "text/plain": [
              "('play', 'play')"
            ]
          },
          "execution_count": 51,
          "metadata": {},
          "output_type": "execute_result"
        }
      ],
      "source": [
        "stem(\"plays\"), stem(\"playing\")"
      ]
    },
    {
      "cell_type": "code",
      "execution_count": null,
      "metadata": {
        "colab": {
          "base_uri": "https://localhost:8080/",
          "height": 38
        },
        "id": "JBRiP5oeuua4",
        "outputId": "e4b9ad80-c02d-46ff-c93d-8e4d77ceebb9"
      },
      "outputs": [
        {
          "data": {
            "application/vnd.google.colaboratory.intrinsic+json": {
              "type": "string"
            },
            "text/plain": [
              "'dish washer wash dish'"
            ]
          },
          "execution_count": 49,
          "metadata": {},
          "output_type": "execute_result"
        }
      ],
      "source": [
        "## Stemming using Porter Stemmer\n",
        "\n",
        "from nltk.stem.porter import PorterStemmer\n",
        "stemmer = PorterStemmer()\n",
        "\n",
        "' '.join([stemmer.stem(word).strip(\"'\") for word in \"dish washer's washed dishes\".split()])"
      ]
    },
    {
      "cell_type": "markdown",
      "metadata": {
        "id": "9cWE4hmUHtad"
      },
      "source": [
        "## **Regular Expression**"
      ]
    },
    {
      "cell_type": "code",
      "execution_count": null,
      "metadata": {
        "colab": {
          "base_uri": "https://localhost:8080/"
        },
        "id": "xWj7EQLQ4v8n",
        "outputId": "36e4bedf-a0a0-4e17-e21e-842ae910ec2e"
      },
      "outputs": [
        {
          "data": {
            "text/plain": [
              "<re.Match object; span=(0, 10), match='Hello Rosa'>"
            ]
          },
          "execution_count": 52,
          "metadata": {},
          "output_type": "execute_result"
        }
      ],
      "source": [
        "import re\n",
        "r = \"(hi|hello|hey|hola)[ ]* ([a-z]*)\"\n",
        "re.match(r, \"Hello Rosa\", flags=re.IGNORECASE)"
      ]
    },
    {
      "cell_type": "markdown",
      "metadata": {
        "id": "22zSBnKuJer7"
      },
      "source": [
        "## **Zipf's Law**"
      ]
    },
    {
      "cell_type": "code",
      "execution_count": null,
      "metadata": {
        "colab": {
          "base_uri": "https://localhost:8080/"
        },
        "id": "jqmfaHYBIN0u",
        "outputId": "d7e2b984-6cde-45d3-96ff-ed275155edbc"
      },
      "outputs": [
        {
          "name": "stderr",
          "output_type": "stream",
          "text": [
            "[nltk_data] Downloading package brown to /root/nltk_data...\n",
            "[nltk_data]   Unzipping corpora/brown.zip.\n"
          ]
        },
        {
          "data": {
            "text/plain": [
              "True"
            ]
          },
          "execution_count": 1,
          "metadata": {},
          "output_type": "execute_result"
        }
      ],
      "source": [
        "## Zipf's  Law\n",
        "import nltk\n",
        "nltk.download('brown')"
      ]
    },
    {
      "cell_type": "code",
      "execution_count": null,
      "metadata": {
        "colab": {
          "base_uri": "https://localhost:8080/"
        },
        "id": "rpQoxq8VIzOV",
        "outputId": "ff466094-3666-4bc5-fb57-d41d53f34623"
      },
      "outputs": [
        {
          "data": {
            "text/plain": [
              "['The',\n",
              " 'Fulton',\n",
              " 'County',\n",
              " 'Grand',\n",
              " 'Jury',\n",
              " 'said',\n",
              " 'Friday',\n",
              " 'an',\n",
              " 'investigation',\n",
              " 'of']"
            ]
          },
          "execution_count": 5,
          "metadata": {},
          "output_type": "execute_result"
        }
      ],
      "source": [
        "from nltk.corpus import brown\n",
        "# Brown Corpus has about 1 million tokens\n",
        "brown.words()[:10]"
      ]
    },
    {
      "cell_type": "code",
      "execution_count": null,
      "metadata": {
        "colab": {
          "base_uri": "https://localhost:8080/"
        },
        "id": "94zlM7JSI6Wm",
        "outputId": "4e40d8cf-c8ef-4854-8636-7247be118ea9"
      },
      "outputs": [
        {
          "data": {
            "text/plain": [
              "[('the', 69971),\n",
              " ('of', 36412),\n",
              " ('and', 28853),\n",
              " ('to', 26158),\n",
              " ('a', 23195),\n",
              " ('in', 21337),\n",
              " ('that', 10594),\n",
              " ('is', 10109),\n",
              " ('was', 9815),\n",
              " ('he', 9548),\n",
              " ('for', 9489),\n",
              " ('it', 8760),\n",
              " ('with', 7289),\n",
              " ('as', 7253),\n",
              " ('his', 6996),\n",
              " ('on', 6741),\n",
              " ('be', 6377),\n",
              " ('at', 5372),\n",
              " ('by', 5306),\n",
              " ('i', 5164)]"
            ]
          },
          "execution_count": 21,
          "metadata": {},
          "output_type": "execute_result"
        }
      ],
      "source": [
        "from collections import Counter\n",
        "\n",
        "punctuations = set((',', '.', '--', '-', '!', '?', ':', ';', '``', \"''\", '(', ')', '[', ']'))\n",
        "word_list = (x.lower() for x in brown.words() if x not in punctuations)\n",
        "\n",
        "token_counts = Counter(word_list)\n",
        "token_counts.most_common(20)\n",
        "\n",
        "#If we take a look at the word frequencies in the Brown Corpus, it follows the logarithmic relationship Zipf predicted.\n",
        "#'The'(rank 1 in term frequency) occurs roughly twice as often as 'of'(rank 2 in term frequency).\"\""
      ]
    },
    {
      "cell_type": "code",
      "execution_count": null,
      "metadata": {
        "colab": {
          "base_uri": "https://localhost:8080/",
          "height": 306
        },
        "id": "aqNiC9JQ5Fco",
        "outputId": "52e9d504-a0fb-480c-c123-c6557be2513c"
      },
      "outputs": [
        {
          "data": {
            "text/plain": [
              "Text(0.5, 1.0, 'Frequency of n-th most frequent word and 1/n line.')"
            ]
          },
          "execution_count": 18,
          "metadata": {},
          "output_type": "execute_result"
        },
        {
          "data": {
            "image/png": "[encoded data removed]",
            "text/plain": [
              "<Figure size 432x288 with 1 Axes>"
            ]
          },
          "metadata": {
            "needs_background": "light"
          },
          "output_type": "display_data"
        }
      ],
      "source": [
        " ## plot showing Zipf's Law\n",
        "import matplotlib.pyplot as plt\n",
        "\n",
        "M = token_counts['the']\n",
        "\n",
        "plt.loglog([c for (w, c) in token_counts.most_common()])\n",
        "plt.loglog([M/i for i in range(1, len(token_counts) + 1)])\n",
        "plt.title(\"Frequency of n-th most frequent word and 1/n line.\")"
      ]
    },
    {
      "cell_type": "markdown",
      "metadata": {
        "id": "h9Zntgc3LBCl"
      },
      "source": [
        "## **A Simple Spelling Corrector using Bag of Words Model**"
      ]
    },
    {
      "cell_type": "code",
      "execution_count": null,
      "metadata": {
        "colab": {
          "base_uri": "https://localhost:8080/"
        },
        "id": "1VuTrKAg6DGH",
        "outputId": "83664dca-d3ba-4748-bc71-f0364b01a884"
      },
      "outputs": [
        {
          "data": {
            "text/plain": [
              "1161192"
            ]
          },
          "execution_count": 23,
          "metadata": {},
          "output_type": "execute_result"
        }
      ],
      "source": [
        "brown_text = ' '.join([word for word in brown.words()]) ## using the Brown corpus\n",
        "len(brown_text.split())"
      ]
    },
    {
      "cell_type": "code",
      "execution_count": null,
      "metadata": {
        "id": "kIZ1qFmpJXJ_"
      },
      "outputs": [],
      "source": [
        "import re\n",
        "from collections import Counter\n",
        "\n",
        "punctuations = set((',', '.', '--', '-', '!', '?', ':', ';', '``', \"''\", '(', ')', '[', ']'))\n",
        "# word_list = (x.lower() for x in brown.words() if x not in punctuations]\n",
        "\n",
        "\n",
        "def words(text):\n",
        "  return re.findall(r'\\w+', text.lower())\n",
        "\n",
        "\n",
        "token_counts = Counter(words(brown_text))\n",
        "\n",
        "\n",
        "def P(word, N=sum(token_counts.values())):\n",
        "  \"\"\"Probability of word\"\"\"\n",
        "  return token_counts[word] / N\n",
        "\n",
        "def correction(word):\n",
        "  \"\"\"Most probable spelling correction for word\"\"\"\n",
        "  return max(candidates(word), key=P)\n",
        "\n",
        "def candidates(word):\n",
        "  \"\"\"Possible corrections for word\"\"\"\n",
        "  return (known([word]) or known(edits1(word)) or known(edits2(word)) or [word])\n",
        "\n",
        "def known(words):\n",
        "  \"\"\"The subset of 'words' that appear in the dictionary of token_counts\"\"\"\n",
        "  return set(w for w in words if w in token_counts)\n",
        "\n",
        "def edits1(word):\n",
        "  \"\"\"All edits that are one edit away from 'word'\"\"\"\n",
        "  letters = 'abcdefghijklmnopqrstuvwxyz'\n",
        "  splits = [(word[:i], word[i:]) for i in range(len(word) + 1)]\n",
        "  deletes = [L + R[1:] for L, R in splits if R ]\n",
        "  transposes = [L + R[1] + R[0] + R[2:] for L, R in splits if len(R)>1]\n",
        "  replaces = [L + c + R[1:] for L, R in splits if R for c in letters ]\n",
        "  inserts = [L + c + R for L, R in splits for c in letters]\n",
        "  return set(deletes + transposes + replaces + inserts)\n",
        "\n",
        "def edits2(word):\n",
        "  \"\"\"All the edits are two edits away from word\"\"\"\n",
        "  return (e2 for e1 in edits1(word) for e2 in edits1(e1))\n"
      ]
    },
    {
      "cell_type": "code",
      "execution_count": null,
      "metadata": {
        "colab": {
          "base_uri": "https://localhost:8080/",
          "height": 38
        },
        "id": "ODARFpOI0REb",
        "outputId": "5f70c64a-f674-45e6-ae90-fc863a968394"
      },
      "outputs": [
        {
          "data": {
            "application/vnd.google.colaboratory.intrinsic+json": {
              "type": "string"
            },
            "text/plain": [
              "'spelling'"
            ]
          },
          "execution_count": 35,
          "metadata": {},
          "output_type": "execute_result"
        }
      ],
      "source": [
        "correction('speling')"
      ]
    },
    {
      "cell_type": "code",
      "execution_count": null,
      "metadata": {
        "colab": {
          "base_uri": "https://localhost:8080/",
          "height": 38
        },
        "id": "1-VBH7eL3apV",
        "outputId": "3b16c815-7d36-4c46-91a9-99af640b3621"
      },
      "outputs": [
        {
          "data": {
            "application/vnd.google.colaboratory.intrinsic+json": {
              "type": "string"
            },
            "text/plain": [
              "'corrected'"
            ]
          },
          "execution_count": 36,
          "metadata": {},
          "output_type": "execute_result"
        }
      ],
      "source": [
        "correction('korrectud')"
      ]
    },
    {
      "cell_type": "markdown",
      "metadata": {
        "id": "yvNxKrgW6QZN"
      },
      "source": [
        "## **Working of Spelling Corrector** Function correction(word) tries to choose the most likely correction for w. We try to find the correction c, out of all possible candidates, that maximizes the probability that c is the intended correction, given the original word.\n",
        "\n",
        "### **Candidate Model :** A simple edit to a word is deletion(remove one letter), a transposition(swap two adjacent letters), a replacement(change one letter to another) or an insertion(add a letter). The function edits1(word) returns a set of all the edited strings(whether words or not) that can be made with one simple edit. \n",
        "\n",
        "### For a word of length n, there will be n deletions, n-1 transpositions, 26n alterations, and 26(n+1) insertions, for a total of 54n+25. \n",
        "\n",
        "\n"
      ]
    },
    {
      "cell_type": "code",
      "execution_count": null,
      "metadata": {
        "colab": {
          "base_uri": "https://localhost:8080/"
        },
        "id": "ezbOdW8g58X8",
        "outputId": "268dc57e-6a8a-4496-8982-49c504ef8951"
      },
      "outputs": [
        {
          "data": {
            "text/plain": [
              "442"
            ]
          },
          "execution_count": 38,
          "metadata": {},
          "output_type": "execute_result"
        }
      ],
      "source": [
        "len(edits1('somthing'))"
      ]
    },
    {
      "cell_type": "code",
      "execution_count": null,
      "metadata": {
        "colab": {
          "base_uri": "https://localhost:8080/"
        },
        "id": "rjbJ-ynl8wbD",
        "outputId": "6616d428-c09d-4153-9c5c-0d8b931884b8"
      },
      "outputs": [
        {
          "data": {
            "text/plain": [
              "{'something', 'soothing'}"
            ]
          },
          "execution_count": 42,
          "metadata": {},
          "output_type": "execute_result"
        }
      ],
      "source": [
        "def known(words): return set(w for w in words if w in token_counts)\n",
        "\n",
        "known(edits1('somthing'))"
      ]
    },
    {
      "cell_type": "code",
      "execution_count": null,
      "metadata": {
        "colab": {
          "base_uri": "https://localhost:8080/"
        },
        "id": "KLGyuteT87SN",
        "outputId": "2a4d25c6-8627-4b28-cc54-7aafed21ef82"
      },
      "outputs": [
        {
          "data": {
            "text/plain": [
              "90902"
            ]
          },
          "execution_count": 43,
          "metadata": {},
          "output_type": "execute_result"
        }
      ],
      "source": [
        "def edits2(word): return (e2 for e1 in edits1(word) for e2 in edits1(e1))\n",
        "\n",
        "len(set(edits2('somthing')))"
      ]
    },
    {
      "cell_type": "code",
      "execution_count": null,
      "metadata": {
        "colab": {
          "base_uri": "https://localhost:8080/"
        },
        "id": "Qcun4-IF9NNV",
        "outputId": "8c706e85-6483-41bc-f263-f4c66f9c48ec"
      },
      "outputs": [
        {
          "data": {
            "text/plain": [
              "{'smoothing', 'somethin', 'something', 'soothing'}"
            ]
          },
          "execution_count": 45,
          "metadata": {},
          "output_type": "execute_result"
        }
      ],
      "source": [
        "known(edits2('something'))"
      ]
    },
    {
      "cell_type": "code",
      "execution_count": null,
      "metadata": {
        "id": "vaiDoc4eOnb1"
      },
      "outputs": [],
      "source": [
        "edits1('wird')"
      ]
    },
    {
      "cell_type": "markdown",
      "metadata": {
        "id": "8jVHl3ph_IGu"
      },
      "source": [
        "<table>\n",
        "  <tr>\n",
        "    <th> "
      ]
    },
    {
      "cell_type": "markdown",
      "metadata": {
        "id": "XxM2AT2S9UyA"
      },
      "source": [
        " ### **Language Model**\n",
        "\n",
        "We estimate the probability of a word, P(word), by counting the number of times each word appears in the corpus. The function words breaks text into words, the the variable token_counts holds a Counter of how often each word appears, and P estimates the probability of each word, based on this Counter. "
      ]
    },
    {
      "cell_type": "code",
      "execution_count": null,
      "metadata": {
        "colab": {
          "base_uri": "https://localhost:8080/"
        },
        "id": "ls-EiiX39PaH",
        "outputId": "aca51a5d-0f67-43ad-cef1-ac4d2ade4302"
      },
      "outputs": [
        {
          "data": {
            "text/plain": [
              "42432"
            ]
          },
          "execution_count": 46,
          "metadata": {},
          "output_type": "execute_result"
        }
      ],
      "source": [
        "len(token_counts)"
      ]
    },
    {
      "cell_type": "code",
      "execution_count": null,
      "metadata": {
        "colab": {
          "base_uri": "https://localhost:8080/"
        },
        "id": "LCXcG80Z-aU_",
        "outputId": "3ce63dac-1898-4881-8c02-cc50b79113f7"
      },
      "outputs": [
        {
          "data": {
            "text/plain": [
              "1033893"
            ]
          },
          "execution_count": 47,
          "metadata": {},
          "output_type": "execute_result"
        }
      ],
      "source": [
        "sum(token_counts.values())"
      ]
    },
    {
      "cell_type": "code",
      "execution_count": null,
      "metadata": {
        "colab": {
          "base_uri": "https://localhost:8080/"
        },
        "id": "r_mwluc2-d55",
        "outputId": "2eab3e78-371d-447d-8454-b2b4256ee946"
      },
      "outputs": [
        {
          "data": {
            "text/plain": [
              "[('the', 70003),\n",
              " ('of', 36473),\n",
              " ('and', 28935),\n",
              " ('to', 26247),\n",
              " ('a', 23502),\n",
              " ('in', 21422),\n",
              " ('that', 10789),\n",
              " ('is', 10109),\n",
              " ('was', 9815),\n",
              " ('he', 9801)]"
            ]
          },
          "execution_count": 48,
          "metadata": {},
          "output_type": "execute_result"
        }
      ],
      "source": [
        "token_counts.most_common(10)"
      ]
    },
    {
      "cell_type": "code",
      "execution_count": null,
      "metadata": {
        "colab": {
          "base_uri": "https://localhost:8080/",
          "height": 38
        },
        "id": "qMTELFjo-g9j",
        "outputId": "2d59d45e-7960-45b0-fe91-a8bd69a0ccd5"
      },
      "outputs": [
        {
          "data": {
            "application/vnd.google.colaboratory.intrinsic+json": {
              "type": "string"
            },
            "text/plain": [
              "'the'"
            ]
          },
          "execution_count": 50,
          "metadata": {},
          "output_type": "execute_result"
        }
      ],
      "source": [
        "max(token_counts, key=P)"
      ]
    },
    {
      "cell_type": "code",
      "execution_count": null,
      "metadata": {
        "colab": {
          "base_uri": "https://localhost:8080/"
        },
        "id": "R4K92lE4-k9c",
        "outputId": "abe2a675-2954-4c31-fdbb-1feb1f4cce23"
      },
      "outputs": [
        {
          "data": {
            "text/plain": [
              "0.06770816709272623"
            ]
          },
          "execution_count": 51,
          "metadata": {},
          "output_type": "execute_result"
        }
      ],
      "source": [
        "P(\"the\")"
      ]
    },
    {
      "cell_type": "code",
      "execution_count": null,
      "metadata": {
        "colab": {
          "base_uri": "https://localhost:8080/"
        },
        "id": "nMQEq6bM-oix",
        "outputId": "8cdd9d2b-8014-44cd-efb3-72481b796542"
      },
      "outputs": [
        {
          "data": {
            "text/plain": [
              "9.672180776927593e-07"
            ]
          },
          "execution_count": 52,
          "metadata": {},
          "output_type": "execute_result"
        }
      ],
      "source": [
        "P(\"extermination\")"
      ]
    },
    {
      "cell_type": "code",
      "execution_count": null,
      "metadata": {
        "colab": {
          "base_uri": "https://localhost:8080/"
        },
        "id": "vJNdsZqr-s8q",
        "outputId": "dce7159f-9b51-4b6e-c680-2f06f494539e"
      },
      "outputs": [
        {
          "data": {
            "text/plain": [
              "0.0"
            ]
          },
          "execution_count": 53,
          "metadata": {},
          "output_type": "execute_result"
        }
      ],
      "source": [
        "P(\"vefend\") # as the word 'vefend' doesn't exist in the corpus, we get a probability = 0"
      ]
    },
    {
      "cell_type": "markdown",
      "metadata": {
        "id": "OiUUHuFz-1xO"
      },
      "source": [
        " ### **Evaluating our spell corrector**"
      ]
    },
    {
      "cell_type": "code",
      "execution_count": null,
      "metadata": {
        "id": "38HaHJye-zGv"
      },
      "outputs": [],
      "source": [
        "def correct_text(text):\n",
        "  \"\"\"Correct all the words within a text, returning the corrected text\"\"\"\n",
        "  return re.sub('[a-zA-Z]+', correct_match, text)\n",
        "\n",
        "def correct_match(match):\n",
        "  \"\"\"Spell-correct word in match, and preserve proper upper/lower/title case\"\"\"\n",
        "  word = match.group()\n",
        "  return case_of(word)(correction(word.lower()))\n",
        "\n",
        "def case_of(text):\n",
        "  \"\"\"Return the case function appropriate for text\"\"\"\n",
        "  return (str.upper if text.isupper() else\n",
        "          str.lower if text.islower() else\n",
        "          str.title if text.istitle() else\n",
        "          str)"
      ]
    },
    {
      "cell_type": "code",
      "execution_count": null,
      "metadata": {
        "colab": {
          "base_uri": "https://localhost:8080/",
          "height": 38
        },
        "id": "GWZ8q2tSRThf",
        "outputId": "96382d3b-480c-4d24-d1ec-52743ff9868a"
      },
      "outputs": [
        {
          "data": {
            "application/vnd.google.colaboratory.intrinsic+json": {
              "type": "string"
            },
            "text/plain": [
              "'Spelling Errors IN something. Whatever; unusual mistakes?'"
            ]
          },
          "execution_count": 31,
          "metadata": {},
          "output_type": "execute_result"
        }
      ],
      "source": [
        "correct_text('Speling Errurs IN somethink. Whutever; unusuel misteakes?')"
      ]
    },
    {
      "cell_type": "code",
      "execution_count": null,
      "metadata": {
        "colab": {
          "base_uri": "https://localhost:8080/",
          "height": 38
        },
        "id": "9EGR4SkvSfFo",
        "outputId": "3281a6b0-3ea9-4d57-9887-09e67c1f5dc4"
      },
      "outputs": [
        {
          "data": {
            "application/vnd.google.colaboratory.intrinsic+json": {
              "type": "string"
            },
            "text/plain": [
              "\"He said that it's not going to world\""
            ]
          },
          "execution_count": 37,
          "metadata": {},
          "output_type": "execute_result"
        }
      ],
      "source": [
        "correct_text(\"He saed that it's not goinng to worl\") \n",
        "## the spelling corrector corrects the sentence word by word."
      ]
    },
    {
      "cell_type": "code",
      "execution_count": null,
      "metadata": {
        "id": "8n0xdQe5S4tX"
      },
      "outputs": [],
      "source": [
        "# Question 1: Show Zipf's law using Gutenberg Corpus? (download the Gutenberg Corpus using nltk)\n",
        "\n",
        "# Question 2: Perform word tokenization on string \n",
        "              #\"Let’s go and meet Mr. Takashi, one of the prominent members of N.C.A. in Japan.\"\n",
        "\n",
        "# Question 3: Write a custom function to perform stemming to handle \"ed\" at the end of a word.\n",
        "\n",
        "# Question 4: Remove emails from the given text using regular expressions?\n",
        "text = '''Dave Martin\n",
        "615-555-7164\n",
        "173 Main St., Springfield RI 55924\n",
        "davemartin@gmail.com\n",
        "Charles Harris\n",
        "800-555-5669\n",
        "969 High St., Atlantis VA 34075\n",
        "charlesharris@bogusemail.com\n",
        "Eric Williams\n",
        "560-555-5153\n",
        "806 1st St., Faketown AK 86847\n",
        "laurawilliams@outlook.com'''"
      ]
    }
  ],
  "metadata": {
    "colab": {
      "name": "NLP_Class_Tutorial_1",
      "provenance": []
    },
    "kernelspec": {
      "display_name": "Python 3",
      "name": "python3"
    },
    "language_info": {
      "name": "python"
    }
  },
  "nbformat": 4,
  "nbformat_minor": 0
}
